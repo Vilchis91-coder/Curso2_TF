{
 "cells": [
  {
   "cell_type": "markdown",
   "id": "48452508-2fa1-4c6b-ac41-e15a7f13750d",
   "metadata": {},
   "source": [
    "## Autores Lakshmi Holla, Niveditha Pandith\n",
    "Alan Michel Vilchis Ortiz"
   ]
  },
  {
   "cell_type": "markdown",
   "id": "48a9fc52-b5c2-42e4-963f-396f2f3116bc",
   "metadata": {},
   "source": [
    "# Data Science Tools and Ecosystem"
   ]
  },
  {
   "cell_type": "markdown",
   "id": "07633361-3625-401d-bda9-b9f937bd3631",
   "metadata": {},
   "source": [
    "## En este cuaderno, se resumen las herramientas y ecosistemas de ciencia de datos."
   ]
  },
  {
   "cell_type": "markdown",
   "id": "b4b8b101-e0b1-44f4-943b-84961c8a7b01",
   "metadata": {},
   "source": [
    "Objetivos:\n",
    "* Listar lenguajes populares para ciencia de datos\n",
    "* Listar bibliotecas utilizadas por cientificos de datos\n",
    "* Ejemplos de expresiones aritméticas "
   ]
  },
  {
   "cell_type": "markdown",
   "id": "94e5fb2a-02b7-4f8c-aefc-14dd9d2eba6f",
   "metadata": {},
   "source": [
    "### Algunos de los lenguajes populares que utilizan los científicos de datos son:\n",
    "1. Python\n",
    "2. R\n",
    "3. SQL"
   ]
  },
  {
   "cell_type": "markdown",
   "id": "65ffe5b9-2dec-43e4-94f5-f926748bf5c7",
   "metadata": {},
   "source": [
    "### Algunas de las bibliotecas comúnmente utilizadas por los científicos de datos incluyen:\n",
    "1. Numpy\n",
    "2. Pandas\n",
    "3. Matplotlib\n",
    "4. Seaborn\n",
    "5. Plotly\n",
    "\n"
   ]
  },
  {
   "cell_type": "markdown",
   "id": "8c1ab92d-6919-4914-b104-3a91ec6aef9f",
   "metadata": {},
   "source": [
    "| Herramientas de Ciencia de Datos |\n",
    "|:--------:|\n",
    "|  Jupyter   |  \n",
    "|  Apache Spark  | \n",
    "|  Git Hub   |  "
   ]
  },
  {
   "cell_type": "markdown",
   "id": "4827c3a5-5e76-4046-b919-56f6c8b96742",
   "metadata": {},
   "source": [
    "### A continuación, se presentan algunos ejemplos de evaluación de expresiones aritméticas en Python\n"
   ]
  },
  {
   "cell_type": "code",
   "execution_count": 24,
   "id": "abbb7a38-a7f3-4979-aa81-79b6fb2d0710",
   "metadata": {},
   "outputs": [
    {
     "data": {
      "text/plain": [
       "17"
      ]
     },
     "execution_count": 24,
     "metadata": {},
     "output_type": "execute_result"
    }
   ],
   "source": [
    "(3*4)+5"
   ]
  },
  {
   "cell_type": "code",
   "execution_count": 29,
   "id": "0c60255d-bb17-4b1c-b404-573e0e27403d",
   "metadata": {},
   "outputs": [],
   "source": [
    "convertir = 200/60"
   ]
  },
  {
   "cell_type": "code",
   "execution_count": 31,
   "id": "192f7b96-4959-407d-8ed8-059781c18f14",
   "metadata": {},
   "outputs": [
    {
     "name": "stdout",
     "output_type": "stream",
     "text": [
      "Esto convertira 200 minutos a horas dividiendo por 60. 3.3333333333333335 hrs\n"
     ]
    }
   ],
   "source": [
    "print('Esto convertira 200 minutos a horas dividiendo por 60.', convertir, 'hrs')"
   ]
  }
 ],
 "metadata": {
  "kernelspec": {
   "display_name": "Python 3 (ipykernel)",
   "language": "python",
   "name": "python3"
  },
  "language_info": {
   "codemirror_mode": {
    "name": "ipython",
    "version": 3
   },
   "file_extension": ".py",
   "mimetype": "text/x-python",
   "name": "python",
   "nbconvert_exporter": "python",
   "pygments_lexer": "ipython3",
   "version": "3.12.9"
  }
 },
 "nbformat": 4,
 "nbformat_minor": 5
}
